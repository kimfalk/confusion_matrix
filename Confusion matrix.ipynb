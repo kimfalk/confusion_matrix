{
 "cells": [
  {
   "cell_type": "code",
   "execution_count": 49,
   "metadata": {
    "collapsed": false
   },
   "outputs": [],
   "source": [
    "import pandas as pd\n",
    "import numpy as np\n",
    "\n",
    "true_positive = 1\n",
    "false_positive = 1\n",
    "true_negative = 2\n",
    "false_negative = 1\n",
    "def all():\n",
    "    return true_negative + true_positive + false_negative + false_positive\n",
    "def condition_negative():\n",
    "    return false_positive + true_negative\n",
    "def condition_positive():\n",
    "    return true_positive + false_negative\n",
    "def predicted_negative()"
   ]
  },
  {
   "cell_type": "code",
   "execution_count": 92,
   "metadata": {
    "collapsed": false
   },
   "outputs": [],
   "source": [
    "class Confustion_Matrix(object):\n",
    "    true_positive = 0\n",
    "    false_positive = 0\n",
    "    true_negative = 0\n",
    "    false_negative = 0\n",
    "    \n",
    "    def __init__(self, true_positive, false_positive, \\\n",
    "         false_negative, true_negative):\n",
    "        self.true_positive = true_positive\n",
    "        self.false_positive = false_positive\n",
    "        self.false_negative = false_negative\n",
    "        self.true_negative = true_negative\n",
    "        \n",
    "    def all(self):\n",
    "        return true_negative + true_positive + false_negative + false_positive\n",
    "    def condition_negative(self):\n",
    "        return false_positive + true_negative\n",
    "    def condition_positive(self):\n",
    "        return true_positive + false_negative\n",
    "    def predicted_negative(self):\n",
    "        return false_negative + true_negative\n",
    "    def predicted_positive(self):\n",
    "        return false_positive + true_positive\n",
    "    \n",
    "    def accuracy(self):\n",
    "        return (self.true_positive + self.true_negative) / self.all()\n",
    "    def specificity(self):\n",
    "        return (self.true_negative)/self.condition_negative()\n",
    "    def sensitivity(self):\n",
    "        return self.true_positive/self.condition_positive()\n",
    "    def recall(self):\n",
    "        return self.sensitivity()\n",
    "    def precision(self):\n",
    "        return self.true_positive/self.predicted_positive()\n",
    "    def f_1(self):\n",
    "        return (self.precision()*self.recall())/(self.precision() + self.recall())\n",
    "    \n",
    "    def print(self):\n",
    "        print(\"%.2f       %.2f \\n%.2f       %.2f\"\\\n",
    "              %(self.true_positive, self.false_positive \\\n",
    "              ,self.false_negative, self.true_negative))\n",
    "        print(\"Accuracy = %.2f\" % self.accuracy())\n",
    "        print(\"Specificity = %.2f\" % self.specificity())\n",
    "        print(\"Sensitivity = %.2f\" % self.sensitivity())\n",
    "        print(\"Precision = %.2f\" % self.precision())\n",
    "        print(\"F_1 = %.2f\" % self.f_1())"
   ]
  },
  {
   "cell_type": "code",
   "execution_count": null,
   "metadata": {
    "collapsed": false
   },
   "outputs": [],
   "source": []
  },
  {
   "cell_type": "code",
   "execution_count": 93,
   "metadata": {
    "collapsed": false
   },
   "outputs": [
    {
     "name": "stdout",
     "output_type": "stream",
     "text": [
      "1.00       1.00 \n",
      "1.00       2.00\n",
      "Accuracy = 0.60\n",
      "Specificity = 0.67\n",
      "Sensitivity = 0.50\n",
      "Precision = 0.50\n",
      "F_1 = 0.25\n"
     ]
    }
   ],
   "source": [
    "cm = Confustion_Matrix(1,1,1,2)\n",
    "cm.print()"
   ]
  },
  {
   "cell_type": "code",
   "execution_count": 99,
   "metadata": {
    "collapsed": false
   },
   "outputs": [
    {
     "name": "stdout",
     "output_type": "stream",
     "text": [
      "1.00       0.00 \n",
      "3.00       1.00\n",
      "Accuracy = 0.40\n",
      "Specificity = 0.33\n",
      "Sensitivity = 0.50\n",
      "Precision = 0.50\n",
      "F_1 = 0.25\n"
     ]
    },
    {
     "data": {
      "text/plain": [
       "0"
      ]
     },
     "execution_count": 99,
     "metadata": {},
     "output_type": "execute_result"
    }
   ],
   "source": [
    "cm2 = Confustion_Matrix(1,0, 3,1)\n",
    "cm2.print()"
   ]
  },
  {
   "cell_type": "code",
   "execution_count": null,
   "metadata": {
    "collapsed": true
   },
   "outputs": [],
   "source": []
  }
 ],
 "metadata": {
  "kernelspec": {
   "display_name": "Python 3",
   "language": "python",
   "name": "python3"
  },
  "language_info": {
   "codemirror_mode": {
    "name": "ipython",
    "version": 3
   },
   "file_extension": ".py",
   "mimetype": "text/x-python",
   "name": "python",
   "nbconvert_exporter": "python",
   "pygments_lexer": "ipython3",
   "version": "3.5.1"
  }
 },
 "nbformat": 4,
 "nbformat_minor": 0
}
